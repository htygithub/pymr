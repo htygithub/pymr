{
 "cells": [
  {
   "cell_type": "code",
   "execution_count": 1,
   "metadata": {},
   "outputs": [],
   "source": [
    "import sys\n",
    "sys.path.insert(0, '..')"
   ]
  },
  {
   "cell_type": "code",
   "execution_count": 2,
   "metadata": {},
   "outputs": [],
   "source": [
    "%matplotlib inline\n",
    "import matplotlib\n",
    "from scipy.io import loadmat\n",
    "from os.path import basename\n",
    "import numpy as np\n",
    "from scipy import ndimage\n",
    "import matplotlib.pyplot as plt\n",
    "from pymr.heart import ahaseg"
   ]
  },
  {
   "cell_type": "code",
   "execution_count": 3,
   "metadata": {},
   "outputs": [],
   "source": [
    "import pymr.heart as pyheart\n",
    "import numpy as np"
   ]
  },
  {
   "cell_type": "code",
   "execution_count": 4,
   "metadata": {},
   "outputs": [
    {
     "name": "stderr",
     "output_type": "stream",
     "text": [
      "pixdim[0] (qfac) should be 1 (default) or -1; setting qfac to 1\n",
      "../pymr/heart/dataset.py:113: RuntimeWarning: invalid value encountered in long_scalars\n",
      "  LV_rate = LV/LVall\n",
      "../pymr/heart/dataset.py:113: RuntimeWarning: invalid value encountered in long_scalars\n",
      "  LV_rate = LV/LVall\n",
      "pixdim[0] (qfac) should be 1 (default) or -1; setting qfac to 1\n",
      "pixdim[0] (qfac) should be 1 (default) or -1; setting qfac to 1\n",
      "pixdim[0] (qfac) should be 1 (default) or -1; setting qfac to 1\n",
      "pixdim[0] (qfac) should be 1 (default) or -1; setting qfac to 1\n",
      "pixdim[0] (qfac) should be 1 (default) or -1; setting qfac to 1\n",
      "pixdim[0] (qfac) should be 1 (default) or -1; setting qfac to 1\n",
      "pixdim[0] (qfac) should be 1 (default) or -1; setting qfac to 1\n",
      "pixdim[0] (qfac) should be 1 (default) or -1; setting qfac to 1\n",
      "../pymr/heart/viz.py:24: RuntimeWarning: More than 20 figures have been opened. Figures created through the pyplot interface (`matplotlib.pyplot.figure`) are retained until explicitly closed and may consume too much memory. (To control this warning, see the rcParam `figure.max_open_warning`).\n",
      "  plt.figure(figsize=(10, 10))\n",
      "pixdim[0] (qfac) should be 1 (default) or -1; setting qfac to 1\n",
      "pixdim[0] (qfac) should be 1 (default) or -1; setting qfac to 1\n",
      "pixdim[0] (qfac) should be 1 (default) or -1; setting qfac to 1\n",
      "pixdim[0] (qfac) should be 1 (default) or -1; setting qfac to 1\n",
      "pixdim[0] (qfac) should be 1 (default) or -1; setting qfac to 1\n",
      "pixdim[0] (qfac) should be 1 (default) or -1; setting qfac to 1\n",
      "pixdim[0] (qfac) should be 1 (default) or -1; setting qfac to 1\n",
      "pixdim[0] (qfac) should be 1 (default) or -1; setting qfac to 1\n",
      "pixdim[0] (qfac) should be 1 (default) or -1; setting qfac to 1\n",
      "pixdim[0] (qfac) should be 1 (default) or -1; setting qfac to 1\n",
      "pixdim[0] (qfac) should be 1 (default) or -1; setting qfac to 1\n",
      "pixdim[0] (qfac) should be 1 (default) or -1; setting qfac to 1\n",
      "pixdim[0] (qfac) should be 1 (default) or -1; setting qfac to 1\n",
      "pixdim[0] (qfac) should be 1 (default) or -1; setting qfac to 1\n",
      "pixdim[0] (qfac) should be 1 (default) or -1; setting qfac to 1\n",
      "pixdim[0] (qfac) should be 1 (default) or -1; setting qfac to 1\n",
      "pixdim[0] (qfac) should be 1 (default) or -1; setting qfac to 1\n",
      "pixdim[0] (qfac) should be 1 (default) or -1; setting qfac to 1\n",
      "pixdim[0] (qfac) should be 1 (default) or -1; setting qfac to 1\n",
      "pixdim[0] (qfac) should be 1 (default) or -1; setting qfac to 1\n",
      "pixdim[0] (qfac) should be 1 (default) or -1; setting qfac to 1\n",
      "pixdim[0] (qfac) should be 1 (default) or -1; setting qfac to 1\n",
      "pixdim[0] (qfac) should be 1 (default) or -1; setting qfac to 1\n",
      "pixdim[0] (qfac) should be 1 (default) or -1; setting qfac to 1\n",
      "pixdim[0] (qfac) should be 1 (default) or -1; setting qfac to 1\n",
      "pixdim[0] (qfac) should be 1 (default) or -1; setting qfac to 1\n"
     ]
    }
   ],
   "source": [
    "pyheart.dataset.convert_acdc(r'/home/ACDC/ACDC', dest_dir=r'/home/OpenDataset/convert_19label_ACDC')"
   ]
  },
  {
   "cell_type": "code",
   "execution_count": null,
   "metadata": {},
   "outputs": [],
   "source": [
    "import glob\n",
    "import numpy as np\n",
    "import nibabel\n",
    "for f in glob.glob(r'/home/OpenDataset/Validation/**/*gt.nii.gz')[:2]:\n",
    "    #print(f)\n",
    "    \n",
    "    try:\n",
    "        heart_aha17_4d = pyheart.dataset.convert(f, result_dir=r'/home/OpenDataset/convert_19label/Validation')\n",
    "    except Exception as e:\n",
    "        \n",
    "        print(e)\n",
    "        print('error:', f)\n",
    "    \n",
    "\n",
    "    #pyheart.montage(np.concatenate(heart_crop[..., np.array((sys_frame, dia_frame))], axis=-1))\n",
    "    '''\n",
    "    plt.figure()\n",
    "    #pyheart.montage(heart_mask_crop[..., sys_frame])\n",
    "    #plt.figure()\n",
    "    pyheart.montage(heart_crop[..., dia_frame])\n",
    "    #plt.figure()\n",
    "    #pyheart.montage(heart_mask_crop[..., dia_frame])\n",
    "    '''"
   ]
  },
  {
   "cell_type": "code",
   "execution_count": null,
   "metadata": {},
   "outputs": [],
   "source": [
    "heart = nibabel.load(r'/home/OpenDataset/Validation/D7T3V8/D7T3V8_sa_gt.nii.gz').get_fdata()\n",
    "\n",
    "sys_frame, dia_frame = pyheart.get_frame(heart)\n",
    "heart_crop, crop = pyheart.auto_crop(heart)\n",
    "plt.figure()\n",
    "pyheart.montage(heart_crop[..., dia_frame])\n",
    "plt.figure()\n",
    "pyheart.montage(heart_crop[..., sys_frame])"
   ]
  },
  {
   "cell_type": "code",
   "execution_count": null,
   "metadata": {},
   "outputs": [],
   "source": [
    "from matplotlib import cm\n",
    "from matplotlib.colors import ListedColormap, LinearSegmentedColormap\n",
    "\n",
    "viridis = cm.get_cmap('viridis', 8)"
   ]
  },
  {
   "cell_type": "code",
   "execution_count": null,
   "metadata": {},
   "outputs": [],
   "source": [
    "viridis"
   ]
  },
  {
   "cell_type": "code",
   "execution_count": null,
   "metadata": {},
   "outputs": [],
   "source": [
    "viridis"
   ]
  },
  {
   "cell_type": "code",
   "execution_count": null,
   "metadata": {},
   "outputs": [],
   "source": [
    "print(viridis)"
   ]
  },
  {
   "cell_type": "code",
   "execution_count": null,
   "metadata": {},
   "outputs": [],
   "source": [
    "cmap = ListedColormap([\"black\", \"darkorange\", \"gold\", \"lawngreen\", \"lightseagreen\"])\n"
   ]
  },
  {
   "cell_type": "code",
   "execution_count": null,
   "metadata": {},
   "outputs": [],
   "source": [
    "np.linspace(0, 1, 12)"
   ]
  },
  {
   "cell_type": "code",
   "execution_count": null,
   "metadata": {},
   "outputs": [],
   "source": [
    "plt.figure()\n",
    "pyheart.montage(heart_crop[..., sys_frame])"
   ]
  },
  {
   "cell_type": "code",
   "execution_count": null,
   "metadata": {},
   "outputs": [],
   "source": [
    "%matplotlib inline\n",
    "import nibabel as nib\n",
    "\n",
    "heart = nib.load(r'/home/OpenDataset/convert_19label_ACDC/patient001_lab19.nii.gz').get_fdata()\n",
    "\n",
    "sys_frame, dia_frame = pyheart.get_frame(heart)\n",
    "heart_crop, crop = pyheart.auto_crop(heart)\n",
    "plt.figure(figsize=(10, 10), dpi=200)\n",
    "#pyheart.montage(heart_crop[..., dia_frame])\n",
    "#plt.figure()\n",
    "from matplotlib import cm\n",
    "from matplotlib.colors import ListedColormap, LinearSegmentedColormap\n",
    "viridis = cm.get_cmap(\"jet\", 27)\n",
    "newcolors = viridis(np.linspace(0, 1, 27))\n",
    "newcolors[0] = np.array([0, 0, 0, 1])\n",
    "newcolors[1] = np.array([0, 0.6, 0.6, 1])\n",
    "newcolors[2] = np.array([0.5, 0, 0.5, 1])\n",
    "newcolors[3] = np.array([0.8, 0.8, 0.5, 1])\n",
    "newcolors[10:27] = viridis(np.linspace(0, 1, 17))\n",
    "newcmp = ListedColormap(newcolors)\n",
    "\n",
    "pyheart.montage(heart_crop[..., sys_frame], cmap=newcmp)\n",
    "plt.colorbar()\n",
    "#cmap = ListedColormap([\"black\", \"darkorange\", \"gold\", \"lawngreen\", \"lightseagreen\"])"
   ]
  },
  {
   "cell_type": "code",
   "execution_count": null,
   "metadata": {},
   "outputs": [],
   "source": [
    "newcmp(np.linspace(0, 1, 28))"
   ]
  },
  {
   "cell_type": "code",
   "execution_count": null,
   "metadata": {},
   "outputs": [],
   "source": [
    "import nibabel as nib\n",
    "f = nib.load(r'/home/OpenDataset/convert_19label_ACDC/patient029_lab19.nii.gz').get_fdata()"
   ]
  },
  {
   "cell_type": "code",
   "execution_count": null,
   "metadata": {},
   "outputs": [],
   "source": [
    "np.bincount(f.flatten().astype(int))"
   ]
  },
  {
   "cell_type": "code",
   "execution_count": null,
   "metadata": {},
   "outputs": [],
   "source": [
    "np.max(f)"
   ]
  },
  {
   "cell_type": "code",
   "execution_count": null,
   "metadata": {},
   "outputs": [],
   "source": [
    "result = pyheart.dataset.convert(r'/home/OpenDataset/convert_19label_ACDC/patient030_gt.nii.gz')"
   ]
  },
  {
   "cell_type": "code",
   "execution_count": null,
   "metadata": {},
   "outputs": [],
   "source": [
    "result.shape"
   ]
  },
  {
   "cell_type": "code",
   "execution_count": null,
   "metadata": {},
   "outputs": [],
   "source": [
    "%matplotlib inline\n",
    "sys_frame, dia_frame = pyheart.get_frame(result)\n",
    "heart_crop, crop = pyheart.auto_crop(result)\n",
    "plt.figure()\n",
    "pyheart.montage(heart_crop[..., dia_frame], cmap=newcmp)\n",
    "plt.colorbar()\n",
    "plt.figure()\n",
    "pyheart.montage(heart_crop[..., sys_frame], cmap=newcmp)\n",
    "plt.colorbar()"
   ]
  },
  {
   "cell_type": "code",
   "execution_count": null,
   "metadata": {},
   "outputs": [],
   "source": [
    "np.bincount(heart_crop[..., sys_frame].astype(int).flatten()).shape"
   ]
  },
  {
   "cell_type": "code",
   "execution_count": null,
   "metadata": {},
   "outputs": [],
   "source": [
    "plt.figure()\n",
    "temp = heart_crop[..., sys_frame]\n",
    "print(np.max(temp))\n",
    "pyheart.montage(temp/27, cmap=newcmp)\n",
    "plt.colorbar()\n",
    "plt.figure()\n",
    "temp = heart_crop[..., dia_frame]\n",
    "print(np.max(temp))\n",
    "pyheart.montage(temp/27, cmap=newcmp)\n",
    "plt.colorbar()"
   ]
  },
  {
   "cell_type": "code",
   "execution_count": null,
   "metadata": {},
   "outputs": [],
   "source": []
  },
  {
   "cell_type": "code",
   "execution_count": null,
   "metadata": {},
   "outputs": [],
   "source": []
  },
  {
   "cell_type": "code",
   "execution_count": null,
   "metadata": {},
   "outputs": [],
   "source": []
  }
 ],
 "metadata": {
  "kernelspec": {
   "display_name": "Python 3",
   "language": "python",
   "name": "python3"
  },
  "language_info": {
   "codemirror_mode": {
    "name": "ipython",
    "version": 3
   },
   "file_extension": ".py",
   "mimetype": "text/x-python",
   "name": "python",
   "nbconvert_exporter": "python",
   "pygments_lexer": "ipython3",
   "version": "3.7.6"
  }
 },
 "nbformat": 4,
 "nbformat_minor": 4
}
